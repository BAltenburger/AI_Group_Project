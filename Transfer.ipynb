{
 "cells": [
  {
   "cell_type": "markdown",
   "id": "823c2349-d7c1-46f3-bc07-d593721e075e",
   "metadata": {},
   "source": [
    "## Import Libraries"
   ]
  },
  {
   "cell_type": "code",
   "execution_count": 2,
   "id": "ba2211e5-792c-4d48-8582-c1ba4b3d7f8d",
   "metadata": {},
   "outputs": [],
   "source": [
    "import matplotlib.pyplot as plt\n",
    "import numpy as np\n",
    "import pandas as pd\n",
    "import seaborn as sns\n",
    "import cv2\n",
    "import tensorflow as tf\n",
    "from tensorflow.keras.preprocessing.image import ImageDataGenerator\n",
    "from tqdm import tqdm\n",
    "import os\n",
    "from sklearn.utils import shuffle\n",
    "from sklearn.preprocessing import LabelEncoder\n",
    "from sklearn.model_selection import train_test_split\n",
    "import keras\n",
    "import sklearn.metrics as metrics\n",
    "from sklearn.metrics import classification_report\n",
    "from sklearn.metrics import confusion_matrix"
   ]
  },
  {
   "cell_type": "markdown",
   "id": "379c99b1-aa31-463b-9aca-6b446df15a13",
   "metadata": {},
   "source": [
    "## Get Data Labels"
   ]
  },
  {
   "cell_type": "code",
   "execution_count": 3,
   "id": "6f6cbc3e-8411-4c71-9b70-3e1a675bbe1e",
   "metadata": {},
   "outputs": [
    {
     "name": "stdout",
     "output_type": "stream",
     "text": [
      "['glioma_tumor', 'meningioma_tumor', 'no_tumor', 'pituitary_tumor']\n"
     ]
    }
   ],
   "source": [
    "classes=[]\n",
    "filename='input'\n",
    "for sub_folder in os.listdir(os.path.join(filename,'Training')):\n",
    "    classes.append(sub_folder)\n",
    "print(classes)\n"
   ]
  },
  {
   "cell_type": "markdown",
   "id": "5ee906a3-68a7-48e3-92bf-0a8db3e6a890",
   "metadata": {},
   "source": [
    "## Resize images and put together Training and Testing Datasets"
   ]
  },
  {
   "cell_type": "code",
   "execution_count": 4,
   "id": "4c5535c6-db2e-4c72-8f6b-bf2855ba40ce",
   "metadata": {},
   "outputs": [
    {
     "name": "stderr",
     "output_type": "stream",
     "text": [
      "100%|███████████████████████████████████████████████████████████████████████████████| 826/826 [00:07<00:00, 106.86it/s]\n",
      "100%|███████████████████████████████████████████████████████████████████████████████| 100/100 [00:00<00:00, 139.74it/s]\n",
      "100%|███████████████████████████████████████████████████████████████████████████████| 822/822 [00:06<00:00, 124.67it/s]\n",
      "100%|███████████████████████████████████████████████████████████████████████████████| 115/115 [00:00<00:00, 171.53it/s]\n",
      "100%|███████████████████████████████████████████████████████████████████████████████| 395/395 [00:03<00:00, 105.98it/s]\n",
      "100%|███████████████████████████████████████████████████████████████████████████████| 105/105 [00:00<00:00, 178.87it/s]\n",
      "100%|████████████████████████████████████████████████████████████████████████████████| 827/827 [00:08<00:00, 98.45it/s]\n",
      "100%|██████████████████████████████████████████████████████████████████████████████████| 74/74 [00:01<00:00, 56.42it/s]\n"
     ]
    }
   ],
   "source": [
    "X_train = []\n",
    "y_train = []\n",
    "image_size = 160\n",
    "for i in classes:\n",
    "    path_train = os.path.join(filename,'Training',i)\n",
    "    for j in tqdm(os.listdir(path_train)): \n",
    "        img = cv2.imread(os.path.join(path_train,j))\n",
    "        img = cv2.resize(img,(image_size, image_size))\n",
    "        X_train.append(img)\n",
    "        y_train.append(i)\n",
    "    path_test = os.path.join(filename,'Testing',i)\n",
    "    for j in tqdm(os.listdir(path_test)):\n",
    "        img = cv2.imread(os.path.join(path_test,j))\n",
    "        img = cv2.resize(img,(image_size,image_size))\n",
    "        X_train.append(img)\n",
    "        y_train.append(i)\n",
    "        \n",
    "X_train = np.array(X_train)\n",
    "y_train = np.array(y_train)    "
   ]
  },
  {
   "cell_type": "markdown",
   "id": "11ce49bc-7305-45b3-82ff-12ce72c9dfda",
   "metadata": {},
   "source": [
    "## Data augmentation and splitting"
   ]
  },
  {
   "cell_type": "code",
   "execution_count": 5,
   "id": "92791a65-1f3a-4bfa-a32f-d39619d135ac",
   "metadata": {},
   "outputs": [],
   "source": [
    "#data augmentation\n",
    "X_train, y_train = shuffle(X_train,y_train, random_state=42)\n",
    "datagen = ImageDataGenerator(\n",
    "    rotation_range=7, #rotate images\n",
    "    width_shift_range=0.05,\n",
    "    height_shift_range=0.05, #shift image in horizontal and vertical\n",
    "    zoom_range=0.1, #zoom images\n",
    "    horizontal_flip=True)\n",
    "\n",
    "datagen.fit(X_train)\n",
    "X_train.shape\n",
    "lb = LabelEncoder()\n",
    "\n",
    "#train and test splitting \n",
    "X_train,X_test,y_train,y_test = train_test_split(X_train,y_train, test_size=0.15,random_state=42,stratify=y_train)\n",
    "\n",
    "labels_train=lb.fit(y_train)\n",
    "y_train=lb.transform(y_train)\n",
    "y_test=lb.transform(y_test)"
   ]
  },
  {
   "cell_type": "markdown",
   "id": "80768351-7a9c-4aac-81d1-6d5cbfaf5e60",
   "metadata": {},
   "source": [
    "## Train the model"
   ]
  },
  {
   "cell_type": "code",
   "execution_count": null,
   "id": "cd757558-f37e-4a13-91f3-8c2d27156b67",
   "metadata": {},
   "outputs": [
    {
     "name": "stdout",
     "output_type": "stream",
     "text": [
      "Epoch 1/10\n",
      "\u001b[1m87/87\u001b[0m \u001b[32m━━━━━━━━━━━━━━━━━━━━\u001b[0m\u001b[37m\u001b[0m \u001b[1m60s\u001b[0m 406ms/step - accuracy: 0.2669 - loss: 1.5193 - val_accuracy: 0.2878 - val_loss: 1.4560\n",
      "Epoch 2/10\n",
      "\u001b[1m87/87\u001b[0m \u001b[32m━━━━━━━━━━━━━━━━━━━━\u001b[0m\u001b[37m\u001b[0m \u001b[1m29s\u001b[0m 337ms/step - accuracy: 0.2881 - loss: 1.4438 - val_accuracy: 0.2837 - val_loss: 1.3832\n",
      "Epoch 3/10\n",
      "\u001b[1m87/87\u001b[0m \u001b[32m━━━━━━━━━━━━━━━━━━━━\u001b[0m\u001b[37m\u001b[0m \u001b[1m31s\u001b[0m 352ms/step - accuracy: 0.2708 - loss: 1.4191 - val_accuracy: 0.2837 - val_loss: 1.3620\n",
      "Epoch 4/10\n",
      "\u001b[1m87/87\u001b[0m \u001b[32m━━━━━━━━━━━━━━━━━━━━\u001b[0m\u001b[37m\u001b[0m \u001b[1m31s\u001b[0m 358ms/step - accuracy: 0.2756 - loss: 1.4048 - val_accuracy: 0.2878 - val_loss: 1.8898\n",
      "Epoch 5/10\n",
      "\u001b[1m87/87\u001b[0m \u001b[32m━━━━━━━━━━━━━━━━━━━━\u001b[0m\u001b[37m\u001b[0m \u001b[1m33s\u001b[0m 375ms/step - accuracy: 0.2761 - loss: 1.4081 - val_accuracy: 0.2755 - val_loss: 1.4739\n",
      "Epoch 6/10\n",
      "\u001b[1m87/87\u001b[0m \u001b[32m━━━━━━━━━━━━━━━━━━━━\u001b[0m\u001b[37m\u001b[0m \u001b[1m33s\u001b[0m 379ms/step - accuracy: 0.2795 - loss: 1.4025 - val_accuracy: 0.2755 - val_loss: 1.5231\n",
      "Epoch 7/10\n",
      "\u001b[1m87/87\u001b[0m \u001b[32m━━━━━━━━━━━━━━━━━━━━\u001b[0m\u001b[37m\u001b[0m \u001b[1m34s\u001b[0m 393ms/step - accuracy: 0.2872 - loss: 1.3849 - val_accuracy: 0.2755 - val_loss: 1.3981\n",
      "Epoch 8/10\n",
      "\u001b[1m87/87\u001b[0m \u001b[32m━━━━━━━━━━━━━━━━━━━━\u001b[0m\u001b[37m\u001b[0m \u001b[1m35s\u001b[0m 397ms/step - accuracy: 0.2732 - loss: 1.3930 - val_accuracy: 0.2755 - val_loss: 1.3612\n",
      "Epoch 9/10\n",
      "\u001b[1m87/87\u001b[0m \u001b[32m━━━━━━━━━━━━━━━━━━━━\u001b[0m\u001b[37m\u001b[0m \u001b[1m31s\u001b[0m 352ms/step - accuracy: 0.2812 - loss: 1.3950 - val_accuracy: 0.2878 - val_loss: 1.3782\n",
      "Epoch 10/10\n",
      "\u001b[1m87/87\u001b[0m \u001b[32m━━━━━━━━━━━━━━━━━━━━\u001b[0m\u001b[37m\u001b[0m \u001b[1m31s\u001b[0m 356ms/step - accuracy: 0.2953 - loss: 1.3896 - val_accuracy: 0.2837 - val_loss: 1.3801\n",
      "Epoch 1/50\n",
      "\u001b[1m87/87\u001b[0m \u001b[32m━━━━━━━━━━━━━━━━━━━━\u001b[0m\u001b[37m\u001b[0m \u001b[1m98s\u001b[0m 650ms/step - accuracy: 0.2842 - loss: 1.4371 - val_accuracy: 0.2878 - val_loss: 1.3827\n",
      "Epoch 2/50\n",
      "\u001b[1m87/87\u001b[0m \u001b[32m━━━━━━━━━━━━━━━━━━━━\u001b[0m\u001b[37m\u001b[0m \u001b[1m49s\u001b[0m 563ms/step - accuracy: 0.2859 - loss: 1.4301 - val_accuracy: 0.2878 - val_loss: 1.3640\n",
      "Epoch 3/50\n",
      "\u001b[1m87/87\u001b[0m \u001b[32m━━━━━━━━━━━━━━━━━━━━\u001b[0m\u001b[37m\u001b[0m \u001b[1m65s\u001b[0m 752ms/step - accuracy: 0.2831 - loss: 1.4102 - val_accuracy: 0.2755 - val_loss: 1.3649\n",
      "Epoch 4/50\n",
      "\u001b[1m87/87\u001b[0m \u001b[32m━━━━━━━━━━━━━━━━━━━━\u001b[0m\u001b[37m\u001b[0m \u001b[1m44s\u001b[0m 502ms/step - accuracy: 0.2871 - loss: 1.3975 - val_accuracy: 0.2755 - val_loss: 1.3645\n",
      "Epoch 5/50\n",
      "\u001b[1m87/87\u001b[0m \u001b[32m━━━━━━━━━━━━━━━━━━━━\u001b[0m\u001b[37m\u001b[0m \u001b[1m44s\u001b[0m 504ms/step - accuracy: 0.2878 - loss: 1.3898 - val_accuracy: 0.2837 - val_loss: 1.3584\n",
      "Epoch 6/50\n",
      "\u001b[1m87/87\u001b[0m \u001b[32m━━━━━━━━━━━━━━━━━━━━\u001b[0m\u001b[37m\u001b[0m \u001b[1m43s\u001b[0m 497ms/step - accuracy: 0.2832 - loss: 1.3947 - val_accuracy: 0.2755 - val_loss: 1.3622\n",
      "Epoch 7/50\n",
      "\u001b[1m87/87\u001b[0m \u001b[32m━━━━━━━━━━━━━━━━━━━━\u001b[0m\u001b[37m\u001b[0m \u001b[1m41s\u001b[0m 469ms/step - accuracy: 0.3085 - loss: 1.3969 - val_accuracy: 0.2755 - val_loss: 1.3646\n",
      "Epoch 8/50\n",
      "\u001b[1m87/87\u001b[0m \u001b[32m━━━━━━━━━━━━━━━━━━━━\u001b[0m\u001b[37m\u001b[0m \u001b[1m43s\u001b[0m 491ms/step - accuracy: 0.2975 - loss: 1.3874 - val_accuracy: 0.2755 - val_loss: 1.3642\n",
      "Epoch 9/50\n",
      "\u001b[1m87/87\u001b[0m \u001b[32m━━━━━━━━━━━━━━━━━━━━\u001b[0m\u001b[37m\u001b[0m \u001b[1m41s\u001b[0m 477ms/step - accuracy: 0.2636 - loss: 1.3906 - val_accuracy: 0.2837 - val_loss: 1.3617\n",
      "Epoch 10/50\n",
      "\u001b[1m87/87\u001b[0m \u001b[32m━━━━━━━━━━━━━━━━━━━━\u001b[0m\u001b[37m\u001b[0m \u001b[1m41s\u001b[0m 476ms/step - accuracy: 0.2767 - loss: 1.3986 - val_accuracy: 0.2755 - val_loss: 1.3632\n",
      "Epoch 11/50\n",
      "\u001b[1m87/87\u001b[0m \u001b[32m━━━━━━━━━━━━━━━━━━━━\u001b[0m\u001b[37m\u001b[0m \u001b[1m41s\u001b[0m 468ms/step - accuracy: 0.2809 - loss: 1.3945 - val_accuracy: 0.2755 - val_loss: 1.3630\n",
      "Epoch 12/50\n",
      "\u001b[1m87/87\u001b[0m \u001b[32m━━━━━━━━━━━━━━━━━━━━\u001b[0m\u001b[37m\u001b[0m \u001b[1m43s\u001b[0m 489ms/step - accuracy: 0.2996 - loss: 1.3778 - val_accuracy: 0.2837 - val_loss: 1.3601\n",
      "Epoch 13/50\n",
      "\u001b[1m87/87\u001b[0m \u001b[32m━━━━━━━━━━━━━━━━━━━━\u001b[0m\u001b[37m\u001b[0m \u001b[1m45s\u001b[0m 520ms/step - accuracy: 0.2931 - loss: 1.3866 - val_accuracy: 0.2878 - val_loss: 1.3611\n",
      "Epoch 14/50\n",
      "\u001b[1m87/87\u001b[0m \u001b[32m━━━━━━━━━━━━━━━━━━━━\u001b[0m\u001b[37m\u001b[0m \u001b[1m45s\u001b[0m 515ms/step - accuracy: 0.2640 - loss: 1.3835 - val_accuracy: 0.2837 - val_loss: 1.3602\n",
      "Epoch 15/50\n",
      "\u001b[1m87/87\u001b[0m \u001b[32m━━━━━━━━━━━━━━━━━━━━\u001b[0m\u001b[37m\u001b[0m \u001b[1m61s\u001b[0m 708ms/step - accuracy: 0.2888 - loss: 1.3848 - val_accuracy: 0.2755 - val_loss: 1.3648\n",
      "Epoch 16/50\n",
      "\u001b[1m87/87\u001b[0m \u001b[32m━━━━━━━━━━━━━━━━━━━━\u001b[0m\u001b[37m\u001b[0m \u001b[1m69s\u001b[0m 791ms/step - accuracy: 0.2702 - loss: 1.3829 - val_accuracy: 0.2878 - val_loss: 1.3597\n",
      "Epoch 17/50\n",
      "\u001b[1m87/87\u001b[0m \u001b[32m━━━━━━━━━━━━━━━━━━━━\u001b[0m\u001b[37m\u001b[0m \u001b[1m75s\u001b[0m 862ms/step - accuracy: 0.2872 - loss: 1.3765 - val_accuracy: 0.2878 - val_loss: 1.3610\n",
      "Epoch 18/50\n",
      "\u001b[1m87/87\u001b[0m \u001b[32m━━━━━━━━━━━━━━━━━━━━\u001b[0m\u001b[37m\u001b[0m \u001b[1m87s\u001b[0m 994ms/step - accuracy: 0.2696 - loss: 1.3850 - val_accuracy: 0.2755 - val_loss: 1.3623\n",
      "Epoch 19/50\n",
      "\u001b[1m87/87\u001b[0m \u001b[32m━━━━━━━━━━━━━━━━━━━━\u001b[0m\u001b[37m\u001b[0m \u001b[1m82s\u001b[0m 941ms/step - accuracy: 0.2939 - loss: 1.3816 - val_accuracy: 0.2755 - val_loss: 1.3658\n",
      "Epoch 20/50\n",
      "\u001b[1m87/87\u001b[0m \u001b[32m━━━━━━━━━━━━━━━━━━━━\u001b[0m\u001b[37m\u001b[0m \u001b[1m83s\u001b[0m 947ms/step - accuracy: 0.2677 - loss: 1.3746 - val_accuracy: 0.2878 - val_loss: 1.3612\n",
      "Epoch 21/50\n",
      "\u001b[1m87/87\u001b[0m \u001b[32m━━━━━━━━━━━━━━━━━━━━\u001b[0m\u001b[37m\u001b[0m \u001b[1m52s\u001b[0m 587ms/step - accuracy: 0.2827 - loss: 1.3822 - val_accuracy: 0.2837 - val_loss: 1.3591\n",
      "Epoch 22/50\n",
      "\u001b[1m87/87\u001b[0m \u001b[32m━━━━━━━━━━━━━━━━━━━━\u001b[0m\u001b[37m\u001b[0m \u001b[1m47s\u001b[0m 537ms/step - accuracy: 0.2940 - loss: 1.3696 - val_accuracy: 0.2837 - val_loss: 1.3598\n",
      "Epoch 23/50\n",
      "\u001b[1m 3/87\u001b[0m \u001b[37m━━━━━━━━━━━━━━━━━━━━\u001b[0m \u001b[1m45s\u001b[0m 539ms/step - accuracy: 0.2396 - loss: 1.4034"
     ]
    }
   ],
   "source": [
    "# # base_model = EfficientNetV2B0(weights='imagenet', include_top=False,input_shape=(image_size,image_size,3))\n",
    "\n",
    "# # # Freeze the base model\n",
    "# # base_model.trainable = False\n",
    "\n",
    "# # # Get the output tensor of the base model\n",
    "# # x = base_model.output\n",
    "# # x = keras.layers.Reshape((1, 1, -1))(x)\n",
    "# # x = tf.keras.layers.GlobalAveragePooling2D()(x)\n",
    "# # x = tf.keras.layers.Dropout(rate=0.5)(x)\n",
    "# # x = tf.keras.layers.Dense(60,activation='elu',kernel_initializer='GlorotNormal')(x)\n",
    "# # x = tf.keras.layers.Dropout(rate=0.33)(x)\n",
    "# # x = tf.keras.layers.Dense(4,activation='softmax')(x)\n",
    "\n",
    "# # # Create the new model\n",
    "# # outputs = keras.layers.Dense(1, name=\"custom_output\")(x)\n",
    "# # model = keras.Model(inputs=base_model.input, outputs=outputs)\n",
    "\n",
    "# # early_stopping_cb= EarlyStopping(patience=5,restore_best_weights=True)\n",
    "# # reduce_lr = ReduceLROnPlateau(monitor='val_loss', factor=0.2, patience=2, min_lr=0.000001)\n",
    "\n",
    "# # # # Compile and train the model\n",
    "# # # opt = keras.optimizers.Adam(learning_rate=0.001, beta_1=0.9, beta_2=0.999, epsilon=1e-08)\n",
    "# # # model.compile(optimizer=opt, loss='binary_crossentropy', metrics=['accuracy']) \n",
    "# # # model.fit(X_train, y_train, validation_data=(X_test, y_test), epochs=50, batch_size=32, callbacks=[early_stopping_cb, reduce_lr])\n",
    "\n",
    "# # # Unfreeze the base model\n",
    "# # base_model.trainable = True\n",
    "\n",
    "# # # Recompile and continue training the model\n",
    "# # opt = keras.optimizers.Adam(learning_rate=0.001, beta_1=0.9, beta_2=0.999, epsilon=1e-08)\n",
    "# # model.compile(optimizer=opt, loss='binary_crossentropy', metrics=['accuracy']) \n",
    "# # model.fit(X_train, y_train, validation_data=(X_test, y_test), epochs=50, batch_size=32, callbacks=[early_stopping_cb, reduce_lr])\n",
    "\n",
    "\n",
    "# import tensorflow as tf\n",
    "# from tensorflow.keras.applications import EfficientNetV2B0\n",
    "# from tensorflow.keras.layers import Dense, Dropout, GlobalAveragePooling2D\n",
    "# from tensorflow.keras.models import Model\n",
    "# from tensorflow.keras.optimizers import Adam\n",
    "# from tensorflow.keras.callbacks import EarlyStopping, ReduceLROnPlateau\n",
    "\n",
    "# X_train = X_train / 255.0\n",
    "# X_test = X_test / 255.0\n",
    "\n",
    "# # Encode labels (assuming y_train and y_test are categorical)\n",
    "# label_encoder = LabelEncoder()\n",
    "# y_train = label_encoder.fit_transform(y_train)\n",
    "# y_test = label_encoder.transform(y_test)\n",
    "\n",
    "# # Load EfficientNetV2B0 model with pre-trained weights\n",
    "# base_model = EfficientNetV2B0(weights='imagenet', include_top=False, input_shape=(image_size, image_size, 3))\n",
    "\n",
    "# # Freeze base model layers\n",
    "# for layer in base_model.layers:\n",
    "#     layer.trainable = False\n",
    "\n",
    "# # Add custom head on top of the base model\n",
    "# x = GlobalAveragePooling2D()(base_model.output)\n",
    "# x = Dropout(0.3)(x)\n",
    "# x = Dense(128, activation='relu')(x)\n",
    "# outputs = Dense(1, activation='sigmoid')(x)  # Binary classification, use sigmoid activation\n",
    "\n",
    "# # Create the model\n",
    "# model = Model(inputs=base_model.input, outputs=outputs)\n",
    "\n",
    "# # Compile the model\n",
    "# model.compile(optimizer=Adam(learning_rate=0.001), loss='binary_crossentropy', metrics=['accuracy'])\n",
    "\n",
    "# # Define callbacks\n",
    "# early_stopping_cb = EarlyStopping(patience=5, restore_best_weights=True)\n",
    "# reduce_lr = ReduceLROnPlateau(monitor='val_loss', factor=0.2, patience=2, min_lr=0.000001)\n",
    "\n",
    "# # Train the model\n",
    "# history = model.fit(X_train, y_train, validation_data=(X_test, y_test), epochs=50, batch_size=32, callbacks=[early_stopping_cb, reduce_lr])\n",
    "\n",
    "# # Evaluate the model on test data\n",
    "# test_loss, test_accuracy = model.evaluate(X_test, y_test)\n",
    "# print(f\"Test Accuracy: {test_accuracy}\")\n",
    "\n",
    "# # Fine-tune the model by unfreezing some base model layers\n",
    "# for layer in base_model.layers:  # Fine-tune the last 20 layers\n",
    "#     layer.trainable = True\n",
    "\n",
    "# # Recompile the model after unfreezing layers\n",
    "# model.compile(optimizer=Adam(learning_rate=0.001), loss='binary_crossentropy', metrics=['accuracy'])\n",
    "\n",
    "# # Continue training the model\n",
    "# history_finetune = model.fit(X_train, y_train, validation_data=(X_test, y_test), epochs=50, batch_size=32, callbacks=[early_stopping_cb, reduce_lr])\n",
    "\n",
    "# # Evaluate the fine-tuned model on test data\n",
    "# test_loss_finetune, test_accuracy_finetune = model.evaluate(X_test, y_test)\n",
    "# print(f\"Fine-tuned Test Accuracy: {test_accuracy_finetune}\")\n",
    "\n",
    "base_model = EfficientNetV2B0(\n",
    "    weights='imagenet',\n",
    "    include_top=False,\n",
    "    input_shape=(image_size, image_size, 3),\n",
    ")\n",
    "\n",
    "# Freeze all layers in the base model initially\n",
    "base_model.trainable = False\n",
    "\n",
    "# Add classification head on top of the base model\n",
    "inputs = layers.Input(shape=(image_size, image_size, 3))\n",
    "x = base_model(inputs, training=False)\n",
    "x = layers.GlobalAveragePooling2D()(x)\n",
    "x = layers.Dense(256, activation='relu')(x)\n",
    "x = layers.BatchNormalization()(x)\n",
    "x = layers.Dropout(0.3)(x)  # Add dropout for regularization\n",
    "x = layers.Dense(128, activation='relu')(x)\n",
    "outputs = layers.Dense(4, activation='softmax')(x)  # 4 classes: glioma, meningioma, pituitary tumor, no tumor\n",
    "\n",
    "model = Model(inputs, outputs)\n",
    "\n",
    "# Set the learning rate\n",
    "learning_rate = 0.001\n",
    "\n",
    "# Compile the model with specific learning rate\n",
    "optimizer = tf.keras.optimizers.Adam(learning_rate=learning_rate)\n",
    "model.compile(\n",
    "    optimizer=optimizer,\n",
    "    loss='sparse_categorical_crossentropy',  # Use sparse categorical crossentropy for integer labels\n",
    "    metrics=['accuracy']\n",
    ")\n",
    "\n",
    "\n",
    "model.fit(X_train ,y_train,validation_data = (X_test,y_test),epochs=10,batch_size=32)\n",
    "\n",
    "\n",
    "# Unfreeze specific layers in the base model for fine-tuning\n",
    "# Here we unfreeze the last several layers of the base model\n",
    "base_model.trainable = True\n",
    "fine_tune_at = -50  # Fine-tune from the last 20 layers of the base model\n",
    "for layer in base_model.layers[:fine_tune_at]:\n",
    "    layer.trainable = False\n",
    "\n",
    "# Recompile the model with a lower learning rate for fine-tuning\n",
    "learning_rate_fine_tune = 0.0001\n",
    "optimizer_fine_tune = tf.keras.optimizers.Adam(learning_rate=learning_rate_fine_tune)\n",
    "model.compile(\n",
    "    optimizer=optimizer_fine_tune,\n",
    "    loss='sparse_categorical_crossentropy',\n",
    "    metrics=['accuracy']\n",
    ")\n",
    "\n",
    "# Train the model with fine-tuning\n",
    "history=model.fit(X_train ,y_train,validation_data = (X_test,y_test),epochs=50,batch_size=32)\n"
   ]
  },
  {
   "cell_type": "markdown",
   "id": "df6a6271-0b5f-4e9d-adf8-b4b0fdb53272",
   "metadata": {},
   "source": [
    "## Save model and plot"
   ]
  },
  {
   "cell_type": "code",
   "execution_count": 17,
   "id": "cbf290c6-6afa-432e-99cd-1c6a010efa45",
   "metadata": {},
   "outputs": [
    {
     "name": "stdout",
     "output_type": "stream",
     "text": [
      "\u001b[1m16/16\u001b[0m \u001b[32m━━━━━━━━━━━━━━━━━━━━\u001b[0m\u001b[37m\u001b[0m \u001b[1m4s\u001b[0m 270ms/step - accuracy: 0.3025 - loss: 1.3662\n",
      "Accuracy: 28.775510\n"
     ]
    },
    {
     "data": {
      "image/png": "[encoded data removed]",
      "text/plain": [
       "<Figure size 800x500 with 1 Axes>"
      ]
     },
     "metadata": {},
     "output_type": "display_data"
    }
   ],
   "source": [
    "#save the model\n",
    "# model.save('models/Transfer.keras')\n",
    "# model.save_weights('models/Transfer.weights.h5')\n",
    "\n",
    "#plot loss and accuracy\n",
    "pd.DataFrame(history.history).plot(figsize=(8, 5))\n",
    "plt.grid(True)\n",
    "\n",
    "plt.gca().set_xlim(0,10)\n",
    "plt.gca().set_ylim(0,1)\n",
    "plt.savefig('plots/Transfer.png')\n",
    "loss, accuracy = model.evaluate(X_test,y_test)\n",
    "\n",
    "#print accuracy    \n",
    "print('Accuracy: %f' % (accuracy*100))"
   ]
  },
  {
   "cell_type": "code",
   "execution_count": null,
   "id": "395fde00-637d-4755-9f11-3f5acd0d31ee",
   "metadata": {},
   "outputs": [],
   "source": [
    "model=keras.models.load_model('models/Transfer.keras')  \n",
    "loss, accuracy = model.evaluate(X_test,y_test)"
   ]
  },
  {
   "cell_type": "markdown",
   "id": "5774e4e0-69c1-4d46-b02d-3255ecf8fa15",
   "metadata": {},
   "source": [
    "## Accuracy and Loss"
   ]
  },
  {
   "cell_type": "code",
   "execution_count": null,
   "id": "3849ec42-19e2-40fc-8cf2-8b8d428b0379",
   "metadata": {},
   "outputs": [],
   "source": [
    "print(f'accuracy : {round(accuracy*100,3)} \\n loss : {round(loss,3)}')"
   ]
  },
  {
   "cell_type": "code",
   "execution_count": null,
   "id": "36cefd27-cb24-4fdb-ab59-f24a6da8b88c",
   "metadata": {},
   "outputs": [],
   "source": [
    "\n",
    "y_test_labels=lb.inverse_transform(y_test)\n",
    "\n",
    "#predicted values\n",
    "pred=np.argmax(model.predict(X_test),axis=1)\n",
    "pred_labels=lb.inverse_transform(pred) #predicted labels"
   ]
  },
  {
   "cell_type": "code",
   "execution_count": null,
   "id": "db1af919-5424-4b98-8983-6788d709f3e4",
   "metadata": {},
   "outputs": [],
   "source": [
    "pd.Series(pred_labels).value_counts()"
   ]
  },
  {
   "cell_type": "markdown",
   "id": "8e890a92-74be-4a4e-9a34-ab02d142e45f",
   "metadata": {},
   "source": [
    "## Confusion Matrix"
   ]
  },
  {
   "cell_type": "code",
   "execution_count": null,
   "id": "f180603b-8c24-48fb-bbda-507fe0d675a1",
   "metadata": {},
   "outputs": [],
   "source": [
    "cm = confusion_matrix(y_test,pred)\n",
    "fig,ax= plt.subplots(figsize=(10.2,8.1))\n",
    "a=sns.color_palette(\"winter_r\")  #_r inverts the palette\n",
    "sns.heatmap(cm, annot=True,fmt='g',linewidths=1,linecolor='white',robust=True,annot_kws={\"size\":18},cmap=a)\n",
    " #annot_kws: settings about annotations\n",
    "ax.xaxis.set_ticklabels(classes); ax.yaxis.set_ticklabels(classes);\n",
    "plt.yticks(va=\"center\")\n",
    "plt.title('Confusion Matrix',fontsize=18,pad=18)\n",
    "plt.xlabel('Actual class',labelpad=22,fontsize=14)\n",
    "plt.ylabel('Predicted class',labelpad=22,fontsize=14)\n",
    "#plt.savefig(os.path.join('plots/','EfficientNetB3_confusion_matrix.png'), dpi=300)"
   ]
  },
  {
   "cell_type": "markdown",
   "id": "f90a9662-7e26-47d9-a86f-46b2a270fdcc",
   "metadata": {},
   "source": [
    "## Model Preformance Scores"
   ]
  },
  {
   "cell_type": "code",
   "execution_count": null,
   "id": "668eb517-68cc-4194-b9da-6ca1a5e87434",
   "metadata": {},
   "outputs": [],
   "source": [
    "print(classification_report(y_test,pred,target_names=classes))"
   ]
  },
  {
   "cell_type": "code",
   "execution_count": null,
   "id": "5b6f343b-ac7e-4571-abd8-78dbece1b803",
   "metadata": {},
   "outputs": [],
   "source": [
    "import matplotlib.image as mpimg\n",
    "TEST_DIR='input/Testing'\n",
    "#fetch images from the original validation dataset and resize them in order to plot the images.\n",
    "images=[] \n",
    "n_classes=4\n",
    "z_max=20\n",
    "for i,filenames in enumerate(os.listdir(TEST_DIR)): \n",
    "    dir_fold=os.path.join(TEST_DIR, filenames)\n",
    "    print(dir_fold)\n",
    "    class_images=[]\n",
    "    z=0\n",
    "    for filename in os.listdir(dir_fold):\n",
    "        if z < z_max:\n",
    "            img_path = os.path.join(dir_fold, filename)\n",
    "            img = cv2.imread(img_path)\n",
    "            img = cv2.resize(img,(image_size,image_size))\n",
    "            class_images.append(img)\n",
    "            z+=1\n",
    "        else:\n",
    "            break\n",
    "    images.append(class_images)\n",
    "images=images[:20]"
   ]
  },
  {
   "cell_type": "code",
   "execution_count": null,
   "id": "846692ab-c2c9-4041-b8a8-373cdefeaff0",
   "metadata": {},
   "outputs": [],
   "source": [
    "#here I plotted the images based on columns and z_max (defined by the user, \n",
    "#but it should be a multiple of the # of columns)\n",
    "columns = 10\n",
    "fig,axes=plt.subplots(int(len(images)*len(images[0])/columns),columns,figsize=(40,20))\n",
    "fig.subplots_adjust(left=0.1,\n",
    "                    bottom=0.1, \n",
    "                    right=0.9, \n",
    "                    top=0.9, \n",
    "                    wspace=0.4, \n",
    "                    hspace=0.4)\n",
    "for i,ind in enumerate(images):\n",
    "    #print(images_class)\n",
    "    fig.suptitle('Plot of some MRI images in the dataset',fontsize=47)\n",
    "    for j, image in enumerate(ind):\n",
    "        #print(j,image)\n",
    "        axes[int((i)*(len(ind)/columns)+(int(j/columns))),j % columns].imshow(image)\n",
    "        axes[int((i)*(len(ind)/columns)+(int(j/columns))),j % columns].set_title(f'{classes[i]}',pad=10)\n",
    "#image_plotting(X_test[:1])\n",
    "#plt.savefig(os.path.join('plots/','Some_MRI_images_in_the_dataset_white.png'), dpi=300,facecolor='w')"
   ]
  }
 ],
 "metadata": {
  "kernelspec": {
   "display_name": "Python 3 (ipykernel)",
   "language": "python",
   "name": "python3"
  },
  "language_info": {
   "codemirror_mode": {
    "name": "ipython",
    "version": 3
   },
   "file_extension": ".py",
   "mimetype": "text/x-python",
   "name": "python",
   "nbconvert_exporter": "python",
   "pygments_lexer": "ipython3",
   "version": "3.11.9"
  }
 },
 "nbformat": 4,
 "nbformat_minor": 5
}
